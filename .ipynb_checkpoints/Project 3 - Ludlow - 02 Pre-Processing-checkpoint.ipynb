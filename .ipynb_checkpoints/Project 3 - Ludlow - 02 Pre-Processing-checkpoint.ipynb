{
 "cells": [
  {
   "cell_type": "markdown",
   "metadata": {},
   "source": [
    "# Project 3: Reddit API Classification & Natural Language Processing"
   ]
  },
  {
   "cell_type": "markdown",
   "metadata": {},
   "source": [
    "## Tom Ludlow, DSI-NY-6"
   ]
  },
  {
   "cell_type": "markdown",
   "metadata": {},
   "source": [
    "Using NLP to identify posts from **r/audioengineering** and **r/livesound**"
   ]
  },
  {
   "cell_type": "markdown",
   "metadata": {},
   "source": [
    "# Notebook 2: Pre-Processing"
   ]
  },
  {
   "cell_type": "code",
   "execution_count": 26,
   "metadata": {},
   "outputs": [],
   "source": [
    "# library imports\n",
    "import requests\n",
    "import time\n",
    "import pandas as pd\n",
    "import numpy as np\n",
    "import ast\n",
    "import re\n",
    "from tqdm import tqdm\n",
    "\n",
    "# preprocessing imports\n",
    "from nltk.tokenize import RegexpTokenizer\n",
    "from nltk.stem import WordNetLemmatizer\n",
    "from nltk.stem.porter import PorterStemmer\n",
    "from sklearn.model_selection import train_test_split\n",
    "\n",
    "import warnings\n",
    "warnings.filterwarnings('ignore')"
   ]
  },
  {
   "cell_type": "code",
   "execution_count": 27,
   "metadata": {},
   "outputs": [],
   "source": [
    "# random state var\n",
    "r = 1219"
   ]
  },
  {
   "cell_type": "markdown",
   "metadata": {},
   "source": [
    "## Pre-processing"
   ]
  },
  {
   "cell_type": "markdown",
   "metadata": {},
   "source": [
    "Reimport our post DataFrame to begin pre-processing."
   ]
  },
  {
   "cell_type": "code",
   "execution_count": 3,
   "metadata": {},
   "outputs": [],
   "source": [
    "df = pd.read_csv('./csv/181219_post_df.csv')"
   ]
  },
  {
   "cell_type": "code",
   "execution_count": 4,
   "metadata": {},
   "outputs": [
    {
     "data": {
      "text/plain": [
       "(1904, 6)"
      ]
     },
     "execution_count": 4,
     "metadata": {},
     "output_type": "execute_result"
    }
   ],
   "source": [
    "df.shape"
   ]
  },
  {
   "cell_type": "code",
   "execution_count": 5,
   "metadata": {},
   "outputs": [
    {
     "data": {
      "text/plain": [
       "0    Tech Support and Troubleshooting - December 10...\n",
       "1    Gear Recommendation (What Should I Buy?) Threa...\n",
       "2    Will I EVER understand compression...? Ahh yes...\n",
       "3    I'm interviewing to be an intern at a big stud...\n",
       "4    If I faced two speakers towards each other, on...\n",
       "Name: comb, dtype: object"
      ]
     },
     "execution_count": 5,
     "metadata": {},
     "output_type": "execute_result"
    }
   ],
   "source": [
    "df.comb.head()"
   ]
  },
  {
   "cell_type": "code",
   "execution_count": 6,
   "metadata": {},
   "outputs": [
    {
     "data": {
      "text/html": [
       "<div>\n",
       "<table border=\"1\" class=\"dataframe\">\n",
       "  <thead>\n",
       "    <tr style=\"text-align: right;\">\n",
       "      <th></th>\n",
       "      <th>title</th>\n",
       "      <th>post</th>\n",
       "      <th>author</th>\n",
       "      <th>upvotes</th>\n",
       "      <th>is_ls</th>\n",
       "      <th>comb</th>\n",
       "    </tr>\n",
       "  </thead>\n",
       "  <tbody>\n",
       "    <tr>\n",
       "      <th>0</th>\n",
       "      <td>Tech Support and Troubleshooting - December 10...</td>\n",
       "      <td>Welcome the /r/audioengineering Tech Support a...</td>\n",
       "      <td>t2_6l4z3</td>\n",
       "      <td>7</td>\n",
       "      <td>0</td>\n",
       "      <td>Tech Support and Troubleshooting - December 10...</td>\n",
       "    </tr>\n",
       "    <tr>\n",
       "      <th>1</th>\n",
       "      <td>Gear Recommendation (What Should I Buy?) Threa...</td>\n",
       "      <td>Welcome to our weekly Gear Recommendation Thre...</td>\n",
       "      <td>t2_6l4z3</td>\n",
       "      <td>15</td>\n",
       "      <td>0</td>\n",
       "      <td>Gear Recommendation (What Should I Buy?) Threa...</td>\n",
       "    </tr>\n",
       "    <tr>\n",
       "      <th>2</th>\n",
       "      <td>Will I EVER understand compression...?</td>\n",
       "      <td>Ahh yes, my monthly compression post...\\n\\nI '...</td>\n",
       "      <td>t2_2r3uhjqr</td>\n",
       "      <td>96</td>\n",
       "      <td>0</td>\n",
       "      <td>Will I EVER understand compression...? Ahh yes...</td>\n",
       "    </tr>\n",
       "    <tr>\n",
       "      <th>3</th>\n",
       "      <td>I'm interviewing to be an intern at a big stud...</td>\n",
       "      <td>What questions should I ask?\\n\\nEdit: I'm gett...</td>\n",
       "      <td>t2_dd3qi</td>\n",
       "      <td>145</td>\n",
       "      <td>0</td>\n",
       "      <td>I'm interviewing to be an intern at a big stud...</td>\n",
       "    </tr>\n",
       "    <tr>\n",
       "      <th>4</th>\n",
       "      <td>If I faced two speakers towards each other, on...</td>\n",
       "      <td></td>\n",
       "      <td>t2_bl2x2</td>\n",
       "      <td>5</td>\n",
       "      <td>0</td>\n",
       "      <td>If I faced two speakers towards each other, on...</td>\n",
       "    </tr>\n",
       "  </tbody>\n",
       "</table>\n",
       "</div>"
      ],
      "text/plain": [
       "                                               title  \\\n",
       "0  Tech Support and Troubleshooting - December 10...   \n",
       "1  Gear Recommendation (What Should I Buy?) Threa...   \n",
       "2             Will I EVER understand compression...?   \n",
       "3  I'm interviewing to be an intern at a big stud...   \n",
       "4  If I faced two speakers towards each other, on...   \n",
       "\n",
       "                                                post       author  upvotes  \\\n",
       "0  Welcome the /r/audioengineering Tech Support a...     t2_6l4z3        7   \n",
       "1  Welcome to our weekly Gear Recommendation Thre...     t2_6l4z3       15   \n",
       "2  Ahh yes, my monthly compression post...\\n\\nI '...  t2_2r3uhjqr       96   \n",
       "3  What questions should I ask?\\n\\nEdit: I'm gett...     t2_dd3qi      145   \n",
       "4                                                        t2_bl2x2        5   \n",
       "\n",
       "   is_ls                                               comb  \n",
       "0      0  Tech Support and Troubleshooting - December 10...  \n",
       "1      0  Gear Recommendation (What Should I Buy?) Threa...  \n",
       "2      0  Will I EVER understand compression...? Ahh yes...  \n",
       "3      0  I'm interviewing to be an intern at a big stud...  \n",
       "4      0  If I faced two speakers towards each other, on...  "
      ]
     },
     "execution_count": 6,
     "metadata": {},
     "output_type": "execute_result"
    }
   ],
   "source": [
    "df.head()"
   ]
  },
  {
   "cell_type": "markdown",
   "metadata": {},
   "source": [
    "### Tokenizing titles and posts"
   ]
  },
  {
   "cell_type": "markdown",
   "metadata": {},
   "source": [
    "We begin by tokenizing our posts, which we will do using Regex (regular expression) formatting.  Our target result is to collect any full words from our post strings, as well as any words connected by a single `/`, in order to maintain URL connection."
   ]
  },
  {
   "cell_type": "code",
   "execution_count": 7,
   "metadata": {},
   "outputs": [],
   "source": [
    "rt = RegexpTokenizer(r\"[\\w/\\']+\") # regex to include words, slash characters for urls, apostrophes"
   ]
  },
  {
   "cell_type": "markdown",
   "metadata": {},
   "source": [
    "To test our Regex formatting, we will use this sample text pasted into the Regex101.com tool."
   ]
  },
  {
   "cell_type": "code",
   "execution_count": 9,
   "metadata": {},
   "outputs": [
    {
     "data": {
      "text/plain": [
       "315     Any words of wisdom? Hey all, I've been making...\n",
       "586     Friday - How did they do that? - October 26, 2...\n",
       "1792     Taking the new d&amp;b GSL for a spin tonight.  \n",
       "1889    How do I tell the live band that they need to ...\n",
       "572     Is there a length limit when using an optical ...\n",
       "Name: comb, dtype: object"
      ]
     },
     "execution_count": 9,
     "metadata": {},
     "output_type": "execute_result"
    }
   ],
   "source": [
    "df.comb.sample(5)"
   ]
  },
  {
   "cell_type": "markdown",
   "metadata": {},
   "source": [
    "There are a number of HTML-formatted character values that were captured during our API pulls.  We remove them manually through an enumerated loop."
   ]
  },
  {
   "cell_type": "code",
   "execution_count": 12,
   "metadata": {
    "scrolled": true
   },
   "outputs": [],
   "source": [
    "for i, text in enumerate(df.comb): # for each string in our combined column\n",
    "    text_loop = text.replace('&amp;','&')\n",
    "    text_loop = text_loop.replace('#x200B;',' ') # manually remove symbols &, nzsp, nbsp, \\n\n",
    "    text_loop = text_loop.replace('nbsp;',' ')\n",
    "    df.comb.iloc[i] = text_loop.replace('\\n',' ').strip()\n",
    "    "
   ]
  },
  {
   "cell_type": "code",
   "execution_count": 13,
   "metadata": {},
   "outputs": [
    {
     "data": {
      "text/plain": [
       "1904"
      ]
     },
     "execution_count": 13,
     "metadata": {},
     "output_type": "execute_result"
    }
   ],
   "source": [
    "len(df.comb)"
   ]
  },
  {
   "cell_type": "markdown",
   "metadata": {},
   "source": [
    "#### Tokenize each post and save to list"
   ]
  },
  {
   "cell_type": "code",
   "execution_count": 14,
   "metadata": {
    "scrolled": true
   },
   "outputs": [],
   "source": [
    "comb_tokens = []  # empty token list\n",
    "\n",
    "for i in range(len(df.comb)):\n",
    "    loop_tokens = rt.tokenize(df.comb.iloc[i].lower()) # use iloc to skip removed rows\n",
    "    for j, token in enumerate(loop_tokens):\n",
    "        if re.match(r\"\\d+[\\w]*\", token):\n",
    "            loop_tokens[j] = ''\n",
    "        if re.match(r\"//[\\w]*\", token):\n",
    "            loop_tokens[j] = ''\n",
    "        if ('audioengineering' in token)|('livesound' in token)|('http' in token):\n",
    "            loop_tokens[j] = ''\n",
    "    comb_tokens.append(loop_tokens)                    # add tokenized string to post_tokens list"
   ]
  },
  {
   "cell_type": "code",
   "execution_count": 29,
   "metadata": {},
   "outputs": [
    {
     "data": {
      "text/plain": [
       "1904"
      ]
     },
     "execution_count": 29,
     "metadata": {},
     "output_type": "execute_result"
    }
   ],
   "source": [
    "len(comb_tokens)"
   ]
  },
  {
   "cell_type": "code",
   "execution_count": 30,
   "metadata": {},
   "outputs": [
    {
     "data": {
      "text/plain": [
       "153"
      ]
     },
     "execution_count": 30,
     "metadata": {},
     "output_type": "execute_result"
    }
   ],
   "source": [
    "len(comb_tokens[0])"
   ]
  },
  {
   "cell_type": "code",
   "execution_count": 28,
   "metadata": {
    "scrolled": false
   },
   "outputs": [
    {
     "data": {
      "text/plain": [
       "['tech', 'support', 'and', 'troubleshooting', 'december']"
      ]
     },
     "execution_count": 28,
     "metadata": {},
     "output_type": "execute_result"
    }
   ],
   "source": [
    "comb_tokens[0][:5]"
   ]
  },
  {
   "cell_type": "markdown",
   "metadata": {},
   "source": [
    "## Stem tokens"
   ]
  },
  {
   "cell_type": "markdown",
   "metadata": {},
   "source": [
    "We will improve the modeling ability of our strings by using a stemmer, which trims characters from each word to convert it to a stem.  Words will register as equivalent during feature extraction if they share a stem (i.e., `computer`,`computing`,`computed` all result in a stem of `comput`).\n",
    "\n",
    "We will use the `PorterStemmer` class from the `nltk` library."
   ]
  },
  {
   "cell_type": "code",
   "execution_count": 16,
   "metadata": {},
   "outputs": [],
   "source": [
    "ps = PorterStemmer()"
   ]
  },
  {
   "cell_type": "code",
   "execution_count": 21,
   "metadata": {
    "scrolled": false
   },
   "outputs": [
    {
     "data": {
      "text/plain": [
       "['tech',\n",
       " 'support',\n",
       " 'and',\n",
       " 'troubleshoot',\n",
       " 'decemb',\n",
       " '',\n",
       " '',\n",
       " 'welcom',\n",
       " 'the',\n",
       " '']"
      ]
     },
     "execution_count": 21,
     "metadata": {},
     "output_type": "execute_result"
    }
   ],
   "source": [
    "posts_t_st = [] # posts tokenized stemmed\n",
    "\n",
    "for post in comb_tokens:\n",
    "    post_st = [] # empty post stems\n",
    "    for word in post:\n",
    "        #print(word)\n",
    "        word_st = ps.stem(word) # get stem of word\n",
    "        post_st.append(word_st) # add to post list\n",
    "    posts_t_st.append(post_st)  # add post list to stem matrix\n",
    "    \n",
    "posts_t_st[0][:10]"
   ]
  },
  {
   "cell_type": "markdown",
   "metadata": {},
   "source": [
    "### Combine stems to single string list"
   ]
  },
  {
   "cell_type": "code",
   "execution_count": 22,
   "metadata": {},
   "outputs": [],
   "source": [
    "# format tokenized stems for vectorizer: list of strings\n",
    "posts_t_st_list = []\n",
    "\n",
    "for post in posts_t_st:\n",
    "    posts_t_st_list.append(' '.join(post))"
   ]
  },
  {
   "cell_type": "markdown",
   "metadata": {},
   "source": [
    "## Lemmatized tokens"
   ]
  },
  {
   "cell_type": "markdown",
   "metadata": {},
   "source": [
    "We will try Lemmatizing as well, which is a \"lighter-touch\" approach.  We can run both vectors through our initial models to determine which is better.\n",
    "\n",
    "We used the `WordNetLemmatizer` class from the `nltk` library."
   ]
  },
  {
   "cell_type": "code",
   "execution_count": 31,
   "metadata": {},
   "outputs": [],
   "source": [
    "lm = WordNetLemmatizer()"
   ]
  },
  {
   "cell_type": "code",
   "execution_count": 33,
   "metadata": {
    "scrolled": false
   },
   "outputs": [
    {
     "data": {
      "text/plain": [
       "['tech',\n",
       " 'support',\n",
       " 'and',\n",
       " 'troubleshooting',\n",
       " 'december',\n",
       " '',\n",
       " '',\n",
       " 'welcome',\n",
       " 'the',\n",
       " '']"
      ]
     },
     "execution_count": 33,
     "metadata": {},
     "output_type": "execute_result"
    }
   ],
   "source": [
    "posts_t_lm = []\n",
    "\n",
    "for post in comb_tokens:\n",
    "    post_st = [] # empty post stems\n",
    "    for word in post:\n",
    "        #print(word)\n",
    "        word_st = lm.lemmatize(word) # get lemmatized word\n",
    "        post_st.append(word_st) # add to post list\n",
    "    posts_t_lm.append(post_st)  # add post list to lemma matrix\n",
    "    \n",
    "posts_t_lm[0][:10]"
   ]
  },
  {
   "cell_type": "markdown",
   "metadata": {},
   "source": [
    "### Combine lemmatized to list"
   ]
  },
  {
   "cell_type": "code",
   "execution_count": 34,
   "metadata": {},
   "outputs": [],
   "source": [
    "posts_t_lm_list = []\n",
    "\n",
    "for post in posts_t_lm:\n",
    "    posts_t_lm_list.append(' '.join(post))"
   ]
  },
  {
   "cell_type": "code",
   "execution_count": 35,
   "metadata": {},
   "outputs": [
    {
     "data": {
      "text/plain": [
       "[\"tech support and troubleshooting december   welcome the  tech support and troubleshooting thread we kindly ask that all tech support question and basic troubleshooting question how do i hook up 'a' to 'b' headphone v mon etc go here if you see post that belong here please report them to help u get to them in a timely manner thank you daily thread monday gear recommendation sticky thread   reddit  q title  author  restrict_sr on sort new t all monday tech support and troubleshooting sticky thread   reddit  q title  author  restrict_sr on sort new t all tuesday tip trick   reddit  q title    and   or author   restrict_sr on sort new t all friday how did they do that   reddit  q title  author  restrict_sr on sort new t all\",\n",
       " 'gear recommendation what should i buy thread december   welcome to our weekly gear recommendation thread where you can ask  for recommendation on smart purchase low cost gear and purchasing recommendation request have become common in the ae subreddit there is also great repetition of model asked about and advised for use this weekly post is intended to assist in centralizing and answering request and recommendation if you see post that belong here please report them to help u get to them in a timely manner thank you daily thread monday gear recommendation sticky thread   reddit  q title  author  restrict_sr on sort new t all monday tech support and troubleshooting sticky thread   reddit  q title  author  restrict_sr on sort new t all tuesday tip trick   reddit  q title    and   or author   restrict_sr on sort new t all friday how did they do that   reddit  q title  author  restrict_sr on sort new t all']"
      ]
     },
     "execution_count": 35,
     "metadata": {},
     "output_type": "execute_result"
    }
   ],
   "source": [
    "posts_t_lm_list[:2]"
   ]
  },
  {
   "cell_type": "markdown",
   "metadata": {},
   "source": [
    "### Add index to posts and titles and create DataFrames"
   ]
  },
  {
   "cell_type": "markdown",
   "metadata": {},
   "source": [
    "Here we create a DataFrame with our combined posts with both stem and lemmatized values, and save to csv to continue."
   ]
  },
  {
   "cell_type": "code",
   "execution_count": 36,
   "metadata": {},
   "outputs": [],
   "source": [
    "df_pre = pd.DataFrame(data=[posts_t_st_list, posts_t_lm_list], index=['post_st','post_lm'])"
   ]
  },
  {
   "cell_type": "code",
   "execution_count": 37,
   "metadata": {},
   "outputs": [],
   "source": [
    "df_pre = df_pre.T"
   ]
  },
  {
   "cell_type": "code",
   "execution_count": 38,
   "metadata": {},
   "outputs": [
    {
     "data": {
      "text/html": [
       "<div>\n",
       "<table border=\"1\" class=\"dataframe\">\n",
       "  <thead>\n",
       "    <tr style=\"text-align: right;\">\n",
       "      <th></th>\n",
       "      <th>post_st</th>\n",
       "      <th>post_lm</th>\n",
       "    </tr>\n",
       "  </thead>\n",
       "  <tbody>\n",
       "    <tr>\n",
       "      <th>0</th>\n",
       "      <td>tech support and troubleshoot decemb   welcom ...</td>\n",
       "      <td>tech support and troubleshooting december   we...</td>\n",
       "    </tr>\n",
       "    <tr>\n",
       "      <th>1</th>\n",
       "      <td>gear recommend what should i buy thread decemb...</td>\n",
       "      <td>gear recommendation what should i buy thread d...</td>\n",
       "    </tr>\n",
       "    <tr>\n",
       "      <th>2</th>\n",
       "      <td>will i ever understand compress ahh ye my mont...</td>\n",
       "      <td>will i ever understand compression ahh yes my ...</td>\n",
       "    </tr>\n",
       "    <tr>\n",
       "      <th>3</th>\n",
       "      <td>i'm interview to be an intern at a big studio ...</td>\n",
       "      <td>i'm interviewing to be an intern at a big stud...</td>\n",
       "    </tr>\n",
       "    <tr>\n",
       "      <th>4</th>\n",
       "      <td>if i face two speaker toward each other one pl...</td>\n",
       "      <td>if i faced two speaker towards each other one ...</td>\n",
       "    </tr>\n",
       "  </tbody>\n",
       "</table>\n",
       "</div>"
      ],
      "text/plain": [
       "                                             post_st  \\\n",
       "0  tech support and troubleshoot decemb   welcom ...   \n",
       "1  gear recommend what should i buy thread decemb...   \n",
       "2  will i ever understand compress ahh ye my mont...   \n",
       "3  i'm interview to be an intern at a big studio ...   \n",
       "4  if i face two speaker toward each other one pl...   \n",
       "\n",
       "                                             post_lm  \n",
       "0  tech support and troubleshooting december   we...  \n",
       "1  gear recommendation what should i buy thread d...  \n",
       "2  will i ever understand compression ahh yes my ...  \n",
       "3  i'm interviewing to be an intern at a big stud...  \n",
       "4  if i faced two speaker towards each other one ...  "
      ]
     },
     "execution_count": 38,
     "metadata": {},
     "output_type": "execute_result"
    }
   ],
   "source": [
    "df_pre.head()"
   ]
  },
  {
   "cell_type": "code",
   "execution_count": 39,
   "metadata": {},
   "outputs": [],
   "source": [
    "df_pre['is_ls'] = df['is_ls']"
   ]
  },
  {
   "cell_type": "code",
   "execution_count": 40,
   "metadata": {},
   "outputs": [
    {
     "data": {
      "text/html": [
       "<div>\n",
       "<table border=\"1\" class=\"dataframe\">\n",
       "  <thead>\n",
       "    <tr style=\"text-align: right;\">\n",
       "      <th></th>\n",
       "      <th>post_st</th>\n",
       "      <th>post_lm</th>\n",
       "      <th>is_ls</th>\n",
       "    </tr>\n",
       "  </thead>\n",
       "  <tbody>\n",
       "    <tr>\n",
       "      <th>0</th>\n",
       "      <td>tech support and troubleshoot decemb   welcom ...</td>\n",
       "      <td>tech support and troubleshooting december   we...</td>\n",
       "      <td>0</td>\n",
       "    </tr>\n",
       "    <tr>\n",
       "      <th>1</th>\n",
       "      <td>gear recommend what should i buy thread decemb...</td>\n",
       "      <td>gear recommendation what should i buy thread d...</td>\n",
       "      <td>0</td>\n",
       "    </tr>\n",
       "    <tr>\n",
       "      <th>2</th>\n",
       "      <td>will i ever understand compress ahh ye my mont...</td>\n",
       "      <td>will i ever understand compression ahh yes my ...</td>\n",
       "      <td>0</td>\n",
       "    </tr>\n",
       "    <tr>\n",
       "      <th>3</th>\n",
       "      <td>i'm interview to be an intern at a big studio ...</td>\n",
       "      <td>i'm interviewing to be an intern at a big stud...</td>\n",
       "      <td>0</td>\n",
       "    </tr>\n",
       "    <tr>\n",
       "      <th>4</th>\n",
       "      <td>if i face two speaker toward each other one pl...</td>\n",
       "      <td>if i faced two speaker towards each other one ...</td>\n",
       "      <td>0</td>\n",
       "    </tr>\n",
       "  </tbody>\n",
       "</table>\n",
       "</div>"
      ],
      "text/plain": [
       "                                             post_st  \\\n",
       "0  tech support and troubleshoot decemb   welcom ...   \n",
       "1  gear recommend what should i buy thread decemb...   \n",
       "2  will i ever understand compress ahh ye my mont...   \n",
       "3  i'm interview to be an intern at a big studio ...   \n",
       "4  if i face two speaker toward each other one pl...   \n",
       "\n",
       "                                             post_lm  is_ls  \n",
       "0  tech support and troubleshooting december   we...      0  \n",
       "1  gear recommendation what should i buy thread d...      0  \n",
       "2  will i ever understand compression ahh yes my ...      0  \n",
       "3  i'm interviewing to be an intern at a big stud...      0  \n",
       "4  if i faced two speaker towards each other one ...      0  "
      ]
     },
     "execution_count": 40,
     "metadata": {},
     "output_type": "execute_result"
    }
   ],
   "source": [
    "df_pre.head()"
   ]
  },
  {
   "cell_type": "code",
   "execution_count": 73,
   "metadata": {},
   "outputs": [],
   "source": [
    "df_pre.to_csv('./csv/181220_df_pre.csv', index=False)"
   ]
  },
  {
   "cell_type": "markdown",
   "metadata": {},
   "source": [
    "## Train-Test Split"
   ]
  },
  {
   "cell_type": "markdown",
   "metadata": {},
   "source": [
    "We will perform a train/test split of the data, which will share index values.  This allows us to directly compare the modeling accuracy scores between stemmed and lemmatized vectors."
   ]
  },
  {
   "cell_type": "code",
   "execution_count": 74,
   "metadata": {},
   "outputs": [],
   "source": [
    "df_pre = pd.read_csv('./csv/181220_df_pre.csv') # reimport data"
   ]
  },
  {
   "cell_type": "code",
   "execution_count": 41,
   "metadata": {},
   "outputs": [
    {
     "data": {
      "text/html": [
       "<div>\n",
       "<table border=\"1\" class=\"dataframe\">\n",
       "  <thead>\n",
       "    <tr style=\"text-align: right;\">\n",
       "      <th></th>\n",
       "      <th>post_st</th>\n",
       "      <th>post_lm</th>\n",
       "      <th>is_ls</th>\n",
       "    </tr>\n",
       "  </thead>\n",
       "  <tbody>\n",
       "    <tr>\n",
       "      <th>0</th>\n",
       "      <td>tech support and troubleshoot decemb   welcom ...</td>\n",
       "      <td>tech support and troubleshooting december   we...</td>\n",
       "      <td>0</td>\n",
       "    </tr>\n",
       "    <tr>\n",
       "      <th>1</th>\n",
       "      <td>gear recommend what should i buy thread decemb...</td>\n",
       "      <td>gear recommendation what should i buy thread d...</td>\n",
       "      <td>0</td>\n",
       "    </tr>\n",
       "    <tr>\n",
       "      <th>2</th>\n",
       "      <td>will i ever understand compress ahh ye my mont...</td>\n",
       "      <td>will i ever understand compression ahh yes my ...</td>\n",
       "      <td>0</td>\n",
       "    </tr>\n",
       "    <tr>\n",
       "      <th>3</th>\n",
       "      <td>i'm interview to be an intern at a big studio ...</td>\n",
       "      <td>i'm interviewing to be an intern at a big stud...</td>\n",
       "      <td>0</td>\n",
       "    </tr>\n",
       "    <tr>\n",
       "      <th>4</th>\n",
       "      <td>if i face two speaker toward each other one pl...</td>\n",
       "      <td>if i faced two speaker towards each other one ...</td>\n",
       "      <td>0</td>\n",
       "    </tr>\n",
       "  </tbody>\n",
       "</table>\n",
       "</div>"
      ],
      "text/plain": [
       "                                             post_st  \\\n",
       "0  tech support and troubleshoot decemb   welcom ...   \n",
       "1  gear recommend what should i buy thread decemb...   \n",
       "2  will i ever understand compress ahh ye my mont...   \n",
       "3  i'm interview to be an intern at a big studio ...   \n",
       "4  if i face two speaker toward each other one pl...   \n",
       "\n",
       "                                             post_lm  is_ls  \n",
       "0  tech support and troubleshooting december   we...      0  \n",
       "1  gear recommendation what should i buy thread d...      0  \n",
       "2  will i ever understand compression ahh yes my ...      0  \n",
       "3  i'm interviewing to be an intern at a big stud...      0  \n",
       "4  if i faced two speaker towards each other one ...      0  "
      ]
     },
     "execution_count": 41,
     "metadata": {},
     "output_type": "execute_result"
    }
   ],
   "source": [
    "df_pre.head()"
   ]
  },
  {
   "cell_type": "code",
   "execution_count": 42,
   "metadata": {},
   "outputs": [
    {
     "data": {
      "text/plain": [
       "post_st    0\n",
       "post_lm    0\n",
       "is_ls      0\n",
       "dtype: int64"
      ]
     },
     "execution_count": 42,
     "metadata": {},
     "output_type": "execute_result"
    }
   ],
   "source": [
    "df_pre.isnull().sum()"
   ]
  },
  {
   "cell_type": "code",
   "execution_count": 43,
   "metadata": {},
   "outputs": [],
   "source": [
    "df_pre.dropna(inplace=True) # remove nulls to continue"
   ]
  },
  {
   "cell_type": "markdown",
   "metadata": {},
   "source": [
    "We set our `X` matrix to contain both post vectors, and our `y` target matrix to `is_ls`."
   ]
  },
  {
   "cell_type": "code",
   "execution_count": 44,
   "metadata": {},
   "outputs": [],
   "source": [
    "X = df_pre[['post_st','post_lm']]\n",
    "y = df_pre['is_ls']"
   ]
  },
  {
   "cell_type": "code",
   "execution_count": 45,
   "metadata": {},
   "outputs": [],
   "source": [
    "X_train, X_test, y_train, y_test = train_test_split(X, y, random_state=r, stratify=y)"
   ]
  },
  {
   "cell_type": "markdown",
   "metadata": {},
   "source": [
    "We confirm that our train and test values are the same length."
   ]
  },
  {
   "cell_type": "code",
   "execution_count": 46,
   "metadata": {},
   "outputs": [
    {
     "data": {
      "text/plain": [
       "1428"
      ]
     },
     "execution_count": 46,
     "metadata": {},
     "output_type": "execute_result"
    }
   ],
   "source": [
    "len(X_train)"
   ]
  },
  {
   "cell_type": "code",
   "execution_count": 47,
   "metadata": {},
   "outputs": [
    {
     "data": {
      "text/plain": [
       "476"
      ]
     },
     "execution_count": 47,
     "metadata": {},
     "output_type": "execute_result"
    }
   ],
   "source": [
    "len(X_test)"
   ]
  },
  {
   "cell_type": "code",
   "execution_count": 48,
   "metadata": {},
   "outputs": [
    {
     "data": {
      "text/plain": [
       "1428"
      ]
     },
     "execution_count": 48,
     "metadata": {},
     "output_type": "execute_result"
    }
   ],
   "source": [
    "len(y_train)"
   ]
  },
  {
   "cell_type": "code",
   "execution_count": 49,
   "metadata": {
    "scrolled": true
   },
   "outputs": [
    {
     "data": {
      "text/plain": [
       "476"
      ]
     },
     "execution_count": 49,
     "metadata": {},
     "output_type": "execute_result"
    }
   ],
   "source": [
    "len(y_test)"
   ]
  },
  {
   "cell_type": "code",
   "execution_count": 50,
   "metadata": {},
   "outputs": [],
   "source": [
    "y_train = pd.DataFrame(y_train, columns=['is_ls'])"
   ]
  },
  {
   "cell_type": "code",
   "execution_count": 51,
   "metadata": {},
   "outputs": [],
   "source": [
    "y_test = pd.DataFrame(y_test, columns=['is_ls'])"
   ]
  },
  {
   "cell_type": "markdown",
   "metadata": {},
   "source": [
    "Saved each train and test DataFrame to a separate dated csv for future reference."
   ]
  },
  {
   "cell_type": "code",
   "execution_count": 87,
   "metadata": {},
   "outputs": [],
   "source": [
    "X_train.to_csv('./csv/181220_X_train.csv', index=True)\n",
    "X_test.to_csv('./csv/181220_X_test.csv', index=True)\n",
    "y_train.to_csv('./csv/181220_y_train.csv', index=True)\n",
    "y_test.to_csv('./csv/181220_y_test.csv', index=True)"
   ]
  },
  {
   "cell_type": "markdown",
   "metadata": {},
   "source": [
    "## Continue to Notebook 3: Model Selection"
   ]
  }
 ],
 "metadata": {
  "kernelspec": {
   "display_name": "Python 3",
   "language": "python",
   "name": "python3"
  },
  "language_info": {
   "codemirror_mode": {
    "name": "ipython",
    "version": 3
   },
   "file_extension": ".py",
   "mimetype": "text/x-python",
   "name": "python",
   "nbconvert_exporter": "python",
   "pygments_lexer": "ipython3",
   "version": "3.6.8"
  }
 },
 "nbformat": 4,
 "nbformat_minor": 2
}
